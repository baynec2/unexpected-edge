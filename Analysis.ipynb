{
 "cells": [
  {
   "cell_type": "code",
   "execution_count": 68,
   "metadata": {},
   "outputs": [],
   "source": [
    "import pandas as pd\n",
    "import seaborn as sns\n",
    "from datetime import datetime\n",
    "\n",
    "NHL_df = pd.read_csv(\"Player_data.csv\")\n",
    "census_df = pd.read_csv(\"births/US_births_1994-2003_CDC_NCHS.csv\")\n",
    "\n"
   ]
  },
  {
   "cell_type": "code",
   "execution_count": 69,
   "metadata": {},
   "outputs": [],
   "source": [
    "date = datetime.strptime(NHL_df.birthDate.values[0],'%Y-%m-%d')\n",
    "NHL_df[\"year\"] = NHL_df.apply(lambda row: datetime.strptime(row[\"birthDate\"], '%Y-%m-%d').year, axis=1)\n",
    "NHL_df[\"month\"] = NHL_df.apply(lambda row: datetime.strptime(row[\"birthDate\"], '%Y-%m-%d').month, axis=1)\n",
    "NHL_df[\"day\"] = NHL_df.apply(lambda row: datetime.strptime(row[\"birthDate\"], '%Y-%m-%d').day, axis=1)"
   ]
  },
  {
   "cell_type": "code",
   "execution_count": 78,
   "metadata": {},
   "outputs": [
    {
     "data": {
      "text/plain": [
       "month\n",
       "1     74\n",
       "2     73\n",
       "3     83\n",
       "4     68\n",
       "5     79\n",
       "6     54\n",
       "7     83\n",
       "8     51\n",
       "9     46\n",
       "10    65\n",
       "11    48\n",
       "12    49\n",
       "Name: lastName, dtype: int64"
      ]
     },
     "execution_count": 78,
     "metadata": {},
     "output_type": "execute_result"
    }
   ],
   "source": [
    "NHL_count = NHL_df.groupby('month')[\"lastName\"].count()\n",
    "NHL_count"
   ]
  },
  {
   "cell_type": "code",
   "execution_count": 89,
   "metadata": {},
   "outputs": [],
   "source": [
    "\n",
    "df = pd.DataFrame(census_df.groupby(\"month\")[\"births\"].sum())\n",
    "total = sum(df[\"births\"].values)\n",
    "df[\"normalized_census\"] = df.apply(lambda row: row[\"births\"]/total * 100, axis=1)"
   ]
  },
  {
   "cell_type": "code",
   "execution_count": 99,
   "metadata": {},
   "outputs": [
    {
     "data": {
      "text/plain": [
       "pandas.core.frame.DataFrame"
      ]
     },
     "execution_count": 99,
     "metadata": {},
     "output_type": "execute_result"
    }
   ],
   "source": [
    "NHL_count_df = pd.DataFrame(NHL_count)\n",
    "total = sum(NHL_count_df[\"lastName\"].values)\n",
    "df[\"normalized_NHL\"] = NHL_count_df.apply(lambda row: row[\"lastName\"]/total * 100, axis=1)\n",
    "\n",
    "\n",
    "\n",
    "\n"
   ]
  },
  {
   "cell_type": "code",
   "execution_count": 101,
   "metadata": {},
   "outputs": [
    {
     "data": {
      "text/html": [
       "<div>\n",
       "<style scoped>\n",
       "    .dataframe tbody tr th:only-of-type {\n",
       "        vertical-align: middle;\n",
       "    }\n",
       "\n",
       "    .dataframe tbody tr th {\n",
       "        vertical-align: top;\n",
       "    }\n",
       "\n",
       "    .dataframe thead th {\n",
       "        text-align: right;\n",
       "    }\n",
       "</style>\n",
       "<table border=\"1\" class=\"dataframe\">\n",
       "  <thead>\n",
       "    <tr style=\"text-align: right;\">\n",
       "      <th></th>\n",
       "      <th>month</th>\n",
       "      <th>variable</th>\n",
       "      <th>value</th>\n",
       "    </tr>\n",
       "  </thead>\n",
       "  <tbody>\n",
       "    <tr>\n",
       "      <th>0</th>\n",
       "      <td>1</td>\n",
       "      <td>normalized_census</td>\n",
       "      <td>8.137822</td>\n",
       "    </tr>\n",
       "    <tr>\n",
       "      <th>1</th>\n",
       "      <td>2</td>\n",
       "      <td>normalized_census</td>\n",
       "      <td>7.598131</td>\n",
       "    </tr>\n",
       "    <tr>\n",
       "      <th>2</th>\n",
       "      <td>3</td>\n",
       "      <td>normalized_census</td>\n",
       "      <td>8.363269</td>\n",
       "    </tr>\n",
       "    <tr>\n",
       "      <th>3</th>\n",
       "      <td>4</td>\n",
       "      <td>normalized_census</td>\n",
       "      <td>8.018990</td>\n",
       "    </tr>\n",
       "    <tr>\n",
       "      <th>4</th>\n",
       "      <td>5</td>\n",
       "      <td>normalized_census</td>\n",
       "      <td>8.435868</td>\n",
       "    </tr>\n",
       "    <tr>\n",
       "      <th>5</th>\n",
       "      <td>6</td>\n",
       "      <td>normalized_census</td>\n",
       "      <td>8.298974</td>\n",
       "    </tr>\n",
       "    <tr>\n",
       "      <th>6</th>\n",
       "      <td>7</td>\n",
       "      <td>normalized_census</td>\n",
       "      <td>8.808144</td>\n",
       "    </tr>\n",
       "    <tr>\n",
       "      <th>7</th>\n",
       "      <td>8</td>\n",
       "      <td>normalized_census</td>\n",
       "      <td>8.876305</td>\n",
       "    </tr>\n",
       "    <tr>\n",
       "      <th>8</th>\n",
       "      <td>9</td>\n",
       "      <td>normalized_census</td>\n",
       "      <td>8.659398</td>\n",
       "    </tr>\n",
       "    <tr>\n",
       "      <th>9</th>\n",
       "      <td>10</td>\n",
       "      <td>normalized_census</td>\n",
       "      <td>8.506123</td>\n",
       "    </tr>\n",
       "    <tr>\n",
       "      <th>10</th>\n",
       "      <td>11</td>\n",
       "      <td>normalized_census</td>\n",
       "      <td>7.984583</td>\n",
       "    </tr>\n",
       "    <tr>\n",
       "      <th>11</th>\n",
       "      <td>12</td>\n",
       "      <td>normalized_census</td>\n",
       "      <td>8.312393</td>\n",
       "    </tr>\n",
       "    <tr>\n",
       "      <th>12</th>\n",
       "      <td>1</td>\n",
       "      <td>normalized_NHL</td>\n",
       "      <td>9.573092</td>\n",
       "    </tr>\n",
       "    <tr>\n",
       "      <th>13</th>\n",
       "      <td>2</td>\n",
       "      <td>normalized_NHL</td>\n",
       "      <td>9.443726</td>\n",
       "    </tr>\n",
       "    <tr>\n",
       "      <th>14</th>\n",
       "      <td>3</td>\n",
       "      <td>normalized_NHL</td>\n",
       "      <td>10.737387</td>\n",
       "    </tr>\n",
       "    <tr>\n",
       "      <th>15</th>\n",
       "      <td>4</td>\n",
       "      <td>normalized_NHL</td>\n",
       "      <td>8.796895</td>\n",
       "    </tr>\n",
       "    <tr>\n",
       "      <th>16</th>\n",
       "      <td>5</td>\n",
       "      <td>normalized_NHL</td>\n",
       "      <td>10.219922</td>\n",
       "    </tr>\n",
       "    <tr>\n",
       "      <th>17</th>\n",
       "      <td>6</td>\n",
       "      <td>normalized_NHL</td>\n",
       "      <td>6.985770</td>\n",
       "    </tr>\n",
       "    <tr>\n",
       "      <th>18</th>\n",
       "      <td>7</td>\n",
       "      <td>normalized_NHL</td>\n",
       "      <td>10.737387</td>\n",
       "    </tr>\n",
       "    <tr>\n",
       "      <th>19</th>\n",
       "      <td>8</td>\n",
       "      <td>normalized_NHL</td>\n",
       "      <td>6.597671</td>\n",
       "    </tr>\n",
       "    <tr>\n",
       "      <th>20</th>\n",
       "      <td>9</td>\n",
       "      <td>normalized_NHL</td>\n",
       "      <td>5.950841</td>\n",
       "    </tr>\n",
       "    <tr>\n",
       "      <th>21</th>\n",
       "      <td>10</td>\n",
       "      <td>normalized_NHL</td>\n",
       "      <td>8.408797</td>\n",
       "    </tr>\n",
       "    <tr>\n",
       "      <th>22</th>\n",
       "      <td>11</td>\n",
       "      <td>normalized_NHL</td>\n",
       "      <td>6.209573</td>\n",
       "    </tr>\n",
       "    <tr>\n",
       "      <th>23</th>\n",
       "      <td>12</td>\n",
       "      <td>normalized_NHL</td>\n",
       "      <td>6.338939</td>\n",
       "    </tr>\n",
       "  </tbody>\n",
       "</table>\n",
       "</div>"
      ],
      "text/plain": [
       "    month           variable      value\n",
       "0       1  normalized_census   8.137822\n",
       "1       2  normalized_census   7.598131\n",
       "2       3  normalized_census   8.363269\n",
       "3       4  normalized_census   8.018990\n",
       "4       5  normalized_census   8.435868\n",
       "5       6  normalized_census   8.298974\n",
       "6       7  normalized_census   8.808144\n",
       "7       8  normalized_census   8.876305\n",
       "8       9  normalized_census   8.659398\n",
       "9      10  normalized_census   8.506123\n",
       "10     11  normalized_census   7.984583\n",
       "11     12  normalized_census   8.312393\n",
       "12      1     normalized_NHL   9.573092\n",
       "13      2     normalized_NHL   9.443726\n",
       "14      3     normalized_NHL  10.737387\n",
       "15      4     normalized_NHL   8.796895\n",
       "16      5     normalized_NHL  10.219922\n",
       "17      6     normalized_NHL   6.985770\n",
       "18      7     normalized_NHL  10.737387\n",
       "19      8     normalized_NHL   6.597671\n",
       "20      9     normalized_NHL   5.950841\n",
       "21     10     normalized_NHL   8.408797\n",
       "22     11     normalized_NHL   6.209573\n",
       "23     12     normalized_NHL   6.338939"
      ]
     },
     "execution_count": 101,
     "metadata": {},
     "output_type": "execute_result"
    }
   ],
   "source": [
    "df = df.reset_index()\n",
    "\n",
    "longboy = pd.melt(df, id_vars='month', value_vars=['normalized_census', 'normalized_NHL'])\n"
   ]
  },
  {
   "cell_type": "code",
   "execution_count": 108,
   "metadata": {},
   "outputs": [
    {
     "data": {
      "image/png": "[encoded data removed]",
      "text/plain": [
       "<Figure size 432x288 with 1 Axes>"
      ]
     },
     "metadata": {},
     "output_type": "display_data"
    }
   ],
   "source": [
    "sns.set(style=\"whitegrid\")\n",
    "ax = sns.barplot(x=\"month\", y=\"value\", hue = \"variable\", data=longboy)"
   ]
  },
  {
   "cell_type": "code",
   "execution_count": null,
   "metadata": {},
   "outputs": [],
   "source": []
  }
 ],
 "metadata": {
  "kernelspec": {
   "display_name": "Python 3",
   "language": "python",
   "name": "python3"
  },
  "language_info": {
   "codemirror_mode": {
    "name": "ipython",
    "version": 3
   },
   "file_extension": ".py",
   "mimetype": "text/x-python",
   "name": "python",
   "nbconvert_exporter": "python",
   "pygments_lexer": "ipython3",
   "version": "3.7.6"
  }
 },
 "nbformat": 4,
 "nbformat_minor": 4
}
