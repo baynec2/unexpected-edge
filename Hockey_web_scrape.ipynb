{
 "cells": [
  {
   "cell_type": "code",
   "execution_count": 46,
   "metadata": {},
   "outputs": [],
   "source": [
    "import pandas as pd\n",
    "import requests"
   ]
  },
  {
   "cell_type": "code",
   "execution_count": 91,
   "metadata": {},
   "outputs": [],
   "source": [
    "TEAMS_URL = \"https://statsapi.web.nhl.com/api/v1/teams\"\n",
    "BASE_URL = \"https://statsapi.web.nhl.com\"\n",
    "def build_url(link, append):\n",
    "    return BASE_URL + link + append\n",
    "\n",
    "response = requests.get(url = TEAMS_URL)"
   ]
  },
  {
   "cell_type": "code",
   "execution_count": 92,
   "metadata": {},
   "outputs": [
    {
     "data": {
      "text/plain": [
       "['/api/v1/teams/1',\n",
       " '/api/v1/teams/2',\n",
       " '/api/v1/teams/3',\n",
       " '/api/v1/teams/4',\n",
       " '/api/v1/teams/5',\n",
       " '/api/v1/teams/6',\n",
       " '/api/v1/teams/7',\n",
       " '/api/v1/teams/8',\n",
       " '/api/v1/teams/9',\n",
       " '/api/v1/teams/10',\n",
       " '/api/v1/teams/12',\n",
       " '/api/v1/teams/13',\n",
       " '/api/v1/teams/14',\n",
       " '/api/v1/teams/15',\n",
       " '/api/v1/teams/16',\n",
       " '/api/v1/teams/17',\n",
       " '/api/v1/teams/18',\n",
       " '/api/v1/teams/19',\n",
       " '/api/v1/teams/20',\n",
       " '/api/v1/teams/21',\n",
       " '/api/v1/teams/22',\n",
       " '/api/v1/teams/23',\n",
       " '/api/v1/teams/24',\n",
       " '/api/v1/teams/25',\n",
       " '/api/v1/teams/26',\n",
       " '/api/v1/teams/28',\n",
       " '/api/v1/teams/29',\n",
       " '/api/v1/teams/30',\n",
       " '/api/v1/teams/52',\n",
       " '/api/v1/teams/53',\n",
       " '/api/v1/teams/54']"
      ]
     },
     "execution_count": 92,
     "metadata": {},
     "output_type": "execute_result"
    }
   ],
   "source": [
    "teams = response.json()[\"teams\"]\n",
    "team_links = list(map(lambda x: x[\"link\"], teams))\n",
    "team_links"
   ]
  },
  {
   "cell_type": "code",
   "execution_count": 93,
   "metadata": {},
   "outputs": [
    {
     "name": "stdout",
     "output_type": "stream",
     "text": [
      "['/api/v1/people/8471233', '/api/v1/people/8471239', '/api/v1/people/8474056', '/api/v1/people/8475151', '/api/v1/people/8476368', '/api/v1/people/8476923', '/api/v1/people/8476941', '/api/v1/people/8477038', '/api/v1/people/8477355', '/api/v1/people/8477401', '/api/v1/people/8477425', '/api/v1/people/8477509', '/api/v1/people/8477541', '/api/v1/people/8478401', '/api/v1/people/8478406', '/api/v1/people/8479291', '/api/v1/people/8479315', '/api/v1/people/8479407', '/api/v1/people/8479415', '/api/v1/people/8480002', '/api/v1/people/8481559', '/api/v1/people/8475231', '/api/v1/people/8476917', '/api/v1/people/8470187', '/api/v1/people/8471217', '/api/v1/people/8471306', '/api/v1/people/8472382', '/api/v1/people/8473463', '/api/v1/people/8473504', '/api/v1/people/8473544', '/api/v1/people/8473575', '/api/v1/people/8474066', '/api/v1/people/8474573', '/api/v1/people/8474586', '/api/v1/people/8474709', '/api/v1/people/8475181', '/api/v1/people/8475314', '/api/v1/people/8475754', '/api/v1/people/8475832', '/api/v1/people/8476419', '/api/v1/people/8476429', '/api/v1/people/8477506', '/api/v1/people/8477527', '/api/v1/people/8477936', '/api/v1/people/8478038', '/api/v1/people/8478445', '/api/v1/people/8478463', '/api/v1/people/8479526', '/api/v1/people/8480865', '/api/v1/people/8474230', '/api/v1/people/8468685', '/api/v1/people/8471686', '/api/v1/people/8474090', '/api/v1/people/8475184', '/api/v1/people/8475735', '/api/v1/people/8475855', '/api/v1/people/8476458', '/api/v1/people/8476459', '/api/v1/people/8476858', '/api/v1/people/8476885', '/api/v1/people/8477402', '/api/v1/people/8477950', '/api/v1/people/8477962', '/api/v1/people/8478048', '/api/v1/people/8478550', '/api/v1/people/8479323', '/api/v1/people/8479324', '/api/v1/people/8479328', '/api/v1/people/8479353', '/api/v1/people/8480078', '/api/v1/people/8480382', '/api/v1/people/8481554', '/api/v1/people/8474037', '/api/v1/people/8477502', '/api/v1/people/8478067', '/api/v1/people/8473485', '/api/v1/people/8470775', '/api/v1/people/8470880', '/api/v1/people/8471702', '/api/v1/people/8473512', '/api/v1/people/8474027', '/api/v1/people/8474161', '/api/v1/people/8474683', '/api/v1/people/8475752', '/api/v1/people/8475763', '/api/v1/people/8476461', '/api/v1/people/8476872', '/api/v1/people/8476906', '/api/v1/people/8477290', '/api/v1/people/8477462', '/api/v1/people/8477948', '/api/v1/people/8477979', '/api/v1/people/8478439', '/api/v1/people/8478500', '/api/v1/people/8479026', '/api/v1/people/8479394', '/api/v1/people/8480797', '/api/v1/people/8477404', '/api/v1/people/8466139', '/api/v1/people/8471215', '/api/v1/people/8471675', '/api/v1/people/8471677', '/api/v1/people/8471724', '/api/v1/people/8471887', '/api/v1/people/8474602', '/api/v1/people/8475208', '/api/v1/people/8475722', '/api/v1/people/8475760', '/api/v1/people/8475810', '/api/v1/people/8476899', '/api/v1/people/8476927', '/api/v1/people/8477244', '/api/v1/people/8477465', '/api/v1/people/8477839', '/api/v1/people/8477955', '/api/v1/people/8477969', '/api/v1/people/8478043', '/api/v1/people/8478074', '/api/v1/people/8478507', '/api/v1/people/8478542', '/api/v1/people/8478866', '/api/v1/people/8479293', '/api/v1/people/8479944', '/api/v1/people/8480945', '/api/v1/people/8476191', '/api/v1/people/8465009', '/api/v1/people/8470638', '/api/v1/people/8470860', '/api/v1/people/8471276', '/api/v1/people/8471695', '/api/v1/people/8473419', '/api/v1/people/8475186', '/api/v1/people/8475745', '/api/v1/people/8475780', '/api/v1/people/8475807', '/api/v1/people/8476374', '/api/v1/people/8476792', '/api/v1/people/8476891', '/api/v1/people/8477320', '/api/v1/people/8477365', '/api/v1/people/8477941', '/api/v1/people/8477956', '/api/v1/people/8478075', '/api/v1/people/8478131', '/api/v1/people/8478443', '/api/v1/people/8478468', '/api/v1/people/8478498', '/api/v1/people/8479325', '/api/v1/people/8480944', '/api/v1/people/8471743', '/api/v1/people/8479420', '/api/v1/people/8471436', '/api/v1/people/8473449', '/api/v1/people/8473564', '/api/v1/people/8474190', '/api/v1/people/8475149', '/api/v1/people/8475622', '/api/v1/people/8475728', '/api/v1/people/8475784', '/api/v1/people/8476525', '/api/v1/people/8476878', '/api/v1/people/8476918', '/api/v1/people/8476931', '/api/v1/people/8476999', '/api/v1/people/8477499', '/api/v1/people/8477508', '/api/v1/people/8477933', '/api/v1/people/8477986', '/api/v1/people/8478109', '/api/v1/people/8478403', '/api/v1/people/8480035', '/api/v1/people/8480839', '/api/v1/people/8480935', '/api/v1/people/8480946', '/api/v1/people/8479376', '/api/v1/people/8478133', '/api/v1/people/8470642', '/api/v1/people/8471679', '/api/v1/people/8473507', '/api/v1/people/8473991', '/api/v1/people/8474038', '/api/v1/people/8474668', '/api/v1/people/8475193', '/api/v1/people/8475279', '/api/v1/people/8475738', '/api/v1/people/8475848', '/api/v1/people/8476443', '/api/v1/people/8476469', '/api/v1/people/8476479', '/api/v1/people/8476948', '/api/v1/people/8476967', '/api/v1/people/8477476', '/api/v1/people/8477494', '/api/v1/people/8477503', '/api/v1/people/8477850', '/api/v1/people/8479292', '/api/v1/people/8480018', '/api/v1/people/8474697', '/api/v1/people/8475195', '/api/v1/people/8467950', '/api/v1/people/8468493', '/api/v1/people/8471676', '/api/v1/people/8473573', '/api/v1/people/8474571', '/api/v1/people/8476285', '/api/v1/people/8476422', '/api/v1/people/8476919', '/api/v1/people/8477015', '/api/v1/people/8477149', '/api/v1/people/8477405', '/api/v1/people/8477407', '/api/v1/people/8477426', '/api/v1/people/8477963', '/api/v1/people/8477971', '/api/v1/people/8478400', '/api/v1/people/8478469', '/api/v1/people/8478846', '/api/v1/people/8478870', '/api/v1/people/8479458', '/api/v1/people/8480801', '/api/v1/people/8477341', '/api/v1/people/8481624', '/api/v1/people/8469455', '/api/v1/people/8474162', '/api/v1/people/8475160', '/api/v1/people/8475166', '/api/v1/people/8475197', '/api/v1/people/8475716', '/api/v1/people/8475718', '/api/v1/people/8475786', '/api/v1/people/8475789', '/api/v1/people/8475883', '/api/v1/people/8476853', '/api/v1/people/8476879', '/api/v1/people/8477021', '/api/v1/people/8477512', '/api/v1/people/8477939', '/api/v1/people/8477953', '/api/v1/people/8478115', '/api/v1/people/8478408', '/api/v1/people/8478483', '/api/v1/people/8478843', '/api/v1/people/8479318', '/api/v1/people/8480157', '/api/v1/people/8480873', '/api/v1/people/8475222', '/api/v1/people/8476462', '/api/v1/people/8477488', '/api/v1/people/8468508', '/api/v1/people/8473503', '/api/v1/people/8473533', '/api/v1/people/8474581', '/api/v1/people/8475799', '/api/v1/people/8475852', '/api/v1/people/8476288', '/api/v1/people/8476389', '/api/v1/people/8476441', '/api/v1/people/8476869', '/api/v1/people/8476882', '/api/v1/people/8476921', '/api/v1/people/8476934', '/api/v1/people/8476958', '/api/v1/people/8477845', '/api/v1/people/8477938', '/api/v1/people/8477998', '/api/v1/people/8478427', '/api/v1/people/8480039', '/api/v1/people/8480830', '/api/v1/people/8478211', '/api/v1/people/8478470', '/api/v1/people/8470619', '/api/v1/people/8471735', '/api/v1/people/8471873', '/api/v1/people/8474098', '/api/v1/people/8474149', '/api/v1/people/8474884', '/api/v1/people/8475287', '/api/v1/people/8475683', '/api/v1/people/8475792', '/api/v1/people/8475796', '/api/v1/people/8476456', '/api/v1/people/8476875', '/api/v1/people/8476904', '/api/v1/people/8476952', '/api/v1/people/8477346', '/api/v1/people/8477384', '/api/v1/people/8477493', '/api/v1/people/8477932', '/api/v1/people/8478027', '/api/v1/people/8478366', '/api/v1/people/8478569', '/api/v1/people/8478839', '/api/v1/people/8479388', '/api/v1/people/8480172', '/api/v1/people/8470147', '/api/v1/people/8470601', '/api/v1/people/8473986', '/api/v1/people/8474031', '/api/v1/people/8474034', '/api/v1/people/8474151', '/api/v1/people/8474564', '/api/v1/people/8474567', '/api/v1/people/8474568', '/api/v1/people/8474870', '/api/v1/people/8475167', '/api/v1/people/8476292', '/api/v1/people/8476399', '/api/v1/people/8476453', '/api/v1/people/8476624', '/api/v1/people/8476826', '/api/v1/people/8476883', '/api/v1/people/8476975', '/api/v1/people/8477409', '/api/v1/people/8478010', '/api/v1/people/8478416', '/api/v1/people/8478477', '/api/v1/people/8478519', '/api/v1/people/8479410', '/api/v1/people/8469454', '/api/v1/people/8471214', '/api/v1/people/8471698', '/api/v1/people/8473563', '/api/v1/people/8474176', '/api/v1/people/8474189', '/api/v1/people/8474590', '/api/v1/people/8474651', '/api/v1/people/8475200', '/api/v1/people/8475209', '/api/v1/people/8475324', '/api/v1/people/8475343', '/api/v1/people/8475455', '/api/v1/people/8475462', '/api/v1/people/8475744', '/api/v1/people/8476329', '/api/v1/people/8476880', '/api/v1/people/8476894', '/api/v1/people/8477903', '/api/v1/people/8477944', '/api/v1/people/8478399', '/api/v1/people/8478492', '/api/v1/people/8479482', '/api/v1/people/8470607', '/api/v1/people/8475177', '/api/v1/people/8476381', '/api/v1/people/8470281', '/api/v1/people/8470645', '/api/v1/people/8473604', '/api/v1/people/8474141', '/api/v1/people/8474250', '/api/v1/people/8476372', '/api/v1/people/8476438', '/api/v1/people/8476473', '/api/v1/people/8476874', '/api/v1/people/8476876', '/api/v1/people/8476886', '/api/v1/people/8477330', '/api/v1/people/8477846', '/api/v1/people/8478146', '/api/v1/people/8478440', '/api/v1/people/8479337', '/api/v1/people/8479423', '/api/v1/people/8479465', '/api/v1/people/8479523', '/api/v1/people/8479542', '/api/v1/people/8480144', '/api/v1/people/8480814', '/api/v1/people/8480871', '/api/v1/people/8481523', '/api/v1/people/8477215', '/api/v1/people/8480821', '/api/v1/people/8479395', '/api/v1/people/8470047', '/api/v1/people/8470110', '/api/v1/people/8470144', '/api/v1/people/8470318', '/api/v1/people/8470657', '/api/v1/people/8471716', '/api/v1/people/8471794', '/api/v1/people/8473415', '/api/v1/people/8473541', '/api/v1/people/8474040', '/api/v1/people/8474597', '/api/v1/people/8475747', '/api/v1/people/8476822', '/api/v1/people/8477454', '/api/v1/people/8477474', '/api/v1/people/8477479', '/api/v1/people/8477511', '/api/v1/people/8477943', '/api/v1/people/8477946', '/api/v1/people/8477952', '/api/v1/people/8478036', '/api/v1/people/8478857', '/api/v1/people/8479425', '/api/v1/people/8480184', '/api/v1/people/8469465', '/api/v1/people/8471469', '/api/v1/people/8473560', '/api/v1/people/8474009', '/api/v1/people/8474068', '/api/v1/people/8474134', '/api/v1/people/8474600', '/api/v1/people/8475168', '/api/v1/people/8475176', '/api/v1/people/8475218', '/api/v1/people/8475225', '/api/v1/people/8475714', '/api/v1/people/8475766', '/api/v1/people/8475793', '/api/v1/people/8475797', '/api/v1/people/8475798', '/api/v1/people/8476278', '/api/v1/people/8476428', '/api/v1/people/8476887', '/api/v1/people/8476925', '/api/v1/people/8477424', '/api/v1/people/8478042', '/api/v1/people/8479371', '/api/v1/people/8470151', '/api/v1/people/8475765', '/api/v1/people/8470257', '/api/v1/people/8471426', '/api/v1/people/8474102', '/api/v1/people/8474125', '/api/v1/people/8474145', '/api/v1/people/8474565', '/api/v1/people/8474596', '/api/v1/people/8474618', '/api/v1/people/8475098', '/api/v1/people/8475158', '/api/v1/people/8475170', '/api/v1/people/8475753', '/api/v1/people/8475768', '/api/v1/people/8476412', '/api/v1/people/8476892', '/api/v1/people/8476897', '/api/v1/people/8476907', '/api/v1/people/8477455', '/api/v1/people/8477482', '/api/v1/people/8477964', '/api/v1/people/8478104', '/api/v1/people/8478407', '/api/v1/people/8479385', '/api/v1/people/8480023', '/api/v1/people/8479976', '/api/v1/people/8481630', '/api/v1/people/8470966', '/api/v1/people/8473473', '/api/v1/people/8474150', '/api/v1/people/8474612', '/api/v1/people/8474628', '/api/v1/people/8474673', '/api/v1/people/8474736', '/api/v1/people/8475660', '/api/v1/people/8475762', '/api/v1/people/8476346', '/api/v1/people/8476356', '/api/v1/people/8476873', '/api/v1/people/8476979', '/api/v1/people/8477496', '/api/v1/people/8477497', '/api/v1/people/8477935', '/api/v1/people/8478233', '/api/v1/people/8478396', '/api/v1/people/8478397', '/api/v1/people/8478430', '/api/v1/people/8478585', '/api/v1/people/8479314', '/api/v1/people/8479346', '/api/v1/people/8479496', '/api/v1/people/8474569', '/api/v1/people/8474685', '/api/v1/people/8475172', '/api/v1/people/8475831', '/api/v1/people/8478420', '/api/v1/people/8473446', '/api/v1/people/8474013', '/api/v1/people/8474636', '/api/v1/people/8474717', '/api/v1/people/8475246', '/api/v1/people/8475820', '/api/v1/people/8476442', '/api/v1/people/8476455', '/api/v1/people/8476480', '/api/v1/people/8477435', '/api/v1/people/8477444', '/api/v1/people/8477456', '/api/v1/people/8477492', '/api/v1/people/8477501', '/api/v1/people/8477507', '/api/v1/people/8477930', '/api/v1/people/8477973', '/api/v1/people/8479370', '/api/v1/people/8479398', '/api/v1/people/8480069', '/api/v1/people/8480925', '/api/v1/people/8481638', '/api/v1/people/8469608', '/api/v1/people/8471242', '/api/v1/people/8471707', '/api/v1/people/8471729', '/api/v1/people/8474589', '/api/v1/people/8475156', '/api/v1/people/8475163', '/api/v1/people/8475178', '/api/v1/people/8475772', '/api/v1/people/8476326', '/api/v1/people/8476454', '/api/v1/people/8476457', '/api/v1/people/8476472', '/api/v1/people/8476915', '/api/v1/people/8476960', '/api/v1/people/8476988', '/api/v1/people/8477498', '/api/v1/people/8477934', '/api/v1/people/8478402', '/api/v1/people/8478451', '/api/v1/people/8478452', '/api/v1/people/8479466', '/api/v1/people/8479977', '/api/v1/people/8481813', '/api/v1/people/8474593', '/api/v1/people/8475907', '/api/v1/people/8476410', '/api/v1/people/8478465', '/api/v1/people/8470626', '/api/v1/people/8471303', '/api/v1/people/8474091', '/api/v1/people/8474291', '/api/v1/people/8474574', '/api/v1/people/8474818', '/api/v1/people/8474849', '/api/v1/people/8475690', '/api/v1/people/8475726', '/api/v1/people/8475839', '/api/v1/people/8476468', '/api/v1/people/8476871', '/api/v1/people/8477353', '/api/v1/people/8477500', '/api/v1/people/8477937', '/api/v1/people/8477967', '/api/v1/people/8478444', '/api/v1/people/8478874', '/api/v1/people/8479442', '/api/v1/people/8479772', '/api/v1/people/8480012', '/api/v1/people/8480147', '/api/v1/people/8480800', '/api/v1/people/8475790', '/api/v1/people/8468011', '/api/v1/people/8470612', '/api/v1/people/8470655', '/api/v1/people/8474584', '/api/v1/people/8474641', '/api/v1/people/8475164', '/api/v1/people/8475235', '/api/v1/people/8475461', '/api/v1/people/8475625', '/api/v1/people/8475764', '/api/v1/people/8476312', '/api/v1/people/8476434', '/api/v1/people/8476483', '/api/v1/people/8476854', '/api/v1/people/8477043', '/api/v1/people/8477240', '/api/v1/people/8477947', '/api/v1/people/8478046', '/api/v1/people/8478491', '/api/v1/people/8479351', '/api/v1/people/8479368', '/api/v1/people/8471691', '/api/v1/people/8481641', '/api/v1/people/8470621', '/api/v1/people/8470794', '/api/v1/people/8471228', '/api/v1/people/8471260', '/api/v1/people/8471284', '/api/v1/people/8471392', '/api/v1/people/8471418', '/api/v1/people/8471699', '/api/v1/people/8471750', '/api/v1/people/8473994', '/api/v1/people/8475413', '/api/v1/people/8475730', '/api/v1/people/8475794', '/api/v1/people/8475906', '/api/v1/people/8476166', '/api/v1/people/8476467', '/api/v1/people/8476889', '/api/v1/people/8476902', '/api/v1/people/8477406', '/api/v1/people/8477450', '/api/v1/people/8478449', '/api/v1/people/8478495', '/api/v1/people/8480036', '/api/v1/people/8470604', '/api/v1/people/8470606', '/api/v1/people/8471685', '/api/v1/people/8471734', '/api/v1/people/8473453', '/api/v1/people/8474563', '/api/v1/people/8476924', '/api/v1/people/8476947', '/api/v1/people/8477018', '/api/v1/people/8477046', '/api/v1/people/8477073', '/api/v1/people/8477361', '/api/v1/people/8477960', '/api/v1/people/8478020', '/api/v1/people/8478455', '/api/v1/people/8478911', '/api/v1/people/8479675', '/api/v1/people/8479998', '/api/v1/people/8480014', '/api/v1/people/8480113', '/api/v1/people/8480336', '/api/v1/people/8481481', '/api/v1/people/8474578', '/api/v1/people/8474774', '/api/v1/people/8476881', '/api/v1/people/8466138', '/api/v1/people/8470613', '/api/v1/people/8471709', '/api/v1/people/8474053', '/api/v1/people/8474889', '/api/v1/people/8475169', '/api/v1/people/8475834', '/api/v1/people/8475841', '/api/v1/people/8475869', '/api/v1/people/8476474', '/api/v1/people/8477180', '/api/v1/people/8477922', '/api/v1/people/8478099', '/api/v1/people/8478136', '/api/v1/people/8478414', '/api/v1/people/8479393', '/api/v1/people/8479580', '/api/v1/people/8479983', '/api/v1/people/8480160', '/api/v1/people/8480384', '/api/v1/people/8480965', '/api/v1/people/8481516', '/api/v1/people/8481640', '/api/v1/people/8471273', '/api/v1/people/8476981', '/api/v1/people/8477495', '/api/v1/people/8478567', '/api/v1/people/8480074', '/api/v1/people/8471804', '/api/v1/people/8473422', '/api/v1/people/8474062', '/api/v1/people/8474679', '/api/v1/people/8474715', '/api/v1/people/8475233', '/api/v1/people/8476432', '/api/v1/people/8476449', '/api/v1/people/8476850', '/api/v1/people/8476870', '/api/v1/people/8476913', '/api/v1/people/8476914', '/api/v1/people/8477416', '/api/v1/people/8477505', '/api/v1/people/8477974', '/api/v1/people/8478007', '/api/v1/people/8478460', '/api/v1/people/8478506', '/api/v1/people/8478831', '/api/v1/people/8478882', '/api/v1/people/8478906', '/api/v1/people/8479369', '/api/v1/people/8479400', '/api/v1/people/8480205', '/api/v1/people/8480762', '/api/v1/people/8481650', '/api/v1/people/8477369', '/api/v1/people/8469459', '/api/v1/people/8470595', '/api/v1/people/8470600', '/api/v1/people/8470610', '/api/v1/people/8471227', '/api/v1/people/8471774', '/api/v1/people/8474688', '/api/v1/people/8474716', '/api/v1/people/8475220', '/api/v1/people/8475692', '/api/v1/people/8476437', '/api/v1/people/8476463', '/api/v1/people/8476779', '/api/v1/people/8476851', '/api/v1/people/8476856', '/api/v1/people/8477451', '/api/v1/people/8477942', '/api/v1/people/8477987', '/api/v1/people/8478413', '/api/v1/people/8478493', '/api/v1/people/8479316', '/api/v1/people/8473412', '/api/v1/people/8474579', '/api/v1/people/8470834', '/api/v1/people/8471218', '/api/v1/people/8473618', '/api/v1/people/8473914', '/api/v1/people/8475179', '/api/v1/people/8475236', '/api/v1/people/8475268', '/api/v1/people/8475868', '/api/v1/people/8476316', '/api/v1/people/8476331', '/api/v1/people/8476392', '/api/v1/people/8476400', '/api/v1/people/8476406', '/api/v1/people/8476460', '/api/v1/people/8476470', '/api/v1/people/8476945', '/api/v1/people/8477359', '/api/v1/people/8477429', '/api/v1/people/8477472', '/api/v1/people/8477504', '/api/v1/people/8477940', '/api/v1/people/8478398', '/api/v1/people/8478424', '/api/v1/people/8478458', '/api/v1/people/8478891', '/api/v1/people/8478915', '/api/v1/people/8479339', '/api/v1/people/8480145', '/api/v1/people/8479345', '/api/v1/people/8470755', '/api/v1/people/8471262', '/api/v1/people/8471274', '/api/v1/people/8471769', '/api/v1/people/8473546', '/api/v1/people/8473548', '/api/v1/people/8474218', '/api/v1/people/8474613', '/api/v1/people/8475171', '/api/v1/people/8475311', '/api/v1/people/8475791', '/api/v1/people/8476994', '/api/v1/people/8477293', '/api/v1/people/8477851', '/api/v1/people/8477951', '/api/v1/people/8477989', '/api/v1/people/8478432', '/api/v1/people/8478474', '/api/v1/people/8478856', '/api/v1/people/8479343', '/api/v1/people/8480849', '/api/v1/people/8480950', '/api/v1/people/8477949', '/api/v1/people/8475204', '/api/v1/people/8468674', '/api/v1/people/8470594', '/api/v1/people/8471669', '/api/v1/people/8471817', '/api/v1/people/8474157', '/api/v1/people/8474166', '/api/v1/people/8474207', '/api/v1/people/8475188', '/api/v1/people/8475191', '/api/v1/people/8475215', '/api/v1/people/8475750', '/api/v1/people/8475913', '/api/v1/people/8476393', '/api/v1/people/8476448', '/api/v1/people/8476539', '/api/v1/people/8476905', '/api/v1/people/8477220', '/api/v1/people/8477447', '/api/v1/people/8477478', '/api/v1/people/8477931', '/api/v1/people/8478462', '/api/v1/people/8480727']\n"
     ]
    }
   ],
   "source": [
    "# list(map(lambda x: x[\"person\"][\"link\"], requests.get(url = build_url(1)).json()[\"roster\"]))\n",
    "people = sum([list(map(lambda x: x[\"person\"][\"link\"], requests.get(url = build_url(i, \"/roster\")).json()[\"roster\"])) for i in team_links], [])\n",
    "print(people)"
   ]
  },
  {
   "cell_type": "code",
   "execution_count": 103,
   "metadata": {},
   "outputs": [],
   "source": [
    "people = sum([requests.get(url=build_url(i, \"\")).json()[\"people\"] for i in people], [])"
   ]
  },
  {
   "cell_type": "code",
   "execution_count": 112,
   "metadata": {},
   "outputs": [],
   "source": [
    "df = pd.DataFrame(people)\n",
    "\n",
    "df.to_csv('Player_data.csv')\n"
   ]
  },
  {
   "cell_type": "code",
   "execution_count": 108,
   "metadata": {},
   "outputs": [
    {
     "data": {
      "text/plain": [
       "713"
      ]
     },
     "execution_count": 108,
     "metadata": {},
     "output_type": "execute_result"
    }
   ],
   "source": []
  },
  {
   "cell_type": "code",
   "execution_count": null,
   "metadata": {},
   "outputs": [],
   "source": []
  }
 ],
 "metadata": {
  "kernelspec": {
   "display_name": "Python 3",
   "language": "python",
   "name": "python3"
  },
  "language_info": {
   "codemirror_mode": {
    "name": "ipython",
    "version": 3
   },
   "file_extension": ".py",
   "mimetype": "text/x-python",
   "name": "python",
   "nbconvert_exporter": "python",
   "pygments_lexer": "ipython3",
   "version": "3.7.6"
  }
 },
 "nbformat": 4,
 "nbformat_minor": 4
}
